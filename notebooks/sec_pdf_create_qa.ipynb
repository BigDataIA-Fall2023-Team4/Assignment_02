{
  "nbformat": 4,
  "nbformat_minor": 0,
  "metadata": {
    "colab": {
      "provenance": []
    },
    "kernelspec": {
      "name": "python3",
      "display_name": "Python 3"
    },
    "language_info": {
      "name": "python"
    }
  },
  "cells": [
    {
      "cell_type": "markdown",
      "source": [
        "# Creating a synthetic Q&A dataset"
      ],
      "metadata": {
        "id": "jmw9cPsowsay"
      }
    },
    {
      "cell_type": "markdown",
      "source": [
        "\n",
        "In this notebook, we're utilizing the 'davinci-instruct-beta-v3' model, which is designed specifically to follow instructions. With this model, we generate questions based on the provided context, and subsequently, we employ 'davinci-instruct-beta-v3' again to answer those questions within the same context."
      ],
      "metadata": {
        "id": "dq6la9iGCcUn"
      }
    },
    {
      "cell_type": "markdown",
      "source": [
        "## Installing Dependencies"
      ],
      "metadata": {
        "id": "hnZQ_jYRDg0F"
      }
    },
    {
      "cell_type": "code",
      "execution_count": 1,
      "metadata": {
        "colab": {
          "base_uri": "https://localhost:8080/"
        },
        "id": "CYwkdbORulTk",
        "outputId": "05d619c8-1ff5-468a-e277-cb5b1af08215"
      },
      "outputs": [
        {
          "output_type": "stream",
          "name": "stdout",
          "text": [
            "Collecting openai\n",
            "  Downloading openai-0.28.1-py3-none-any.whl (76 kB)\n",
            "\u001b[?25l     \u001b[90m━━━━━━━━━━━━━━━━━━━━━━━━━━━━━━━━━━━━━━━━\u001b[0m \u001b[32m0.0/77.0 kB\u001b[0m \u001b[31m?\u001b[0m eta \u001b[36m-:--:--\u001b[0m\r\u001b[2K     \u001b[91m━━━━━━━━━━━━━━━\u001b[0m\u001b[91m╸\u001b[0m\u001b[90m━━━━━━━━━━━━━━━━━━━━━━━━\u001b[0m \u001b[32m30.7/77.0 kB\u001b[0m \u001b[31m684.3 kB/s\u001b[0m eta \u001b[36m0:00:01\u001b[0m\r\u001b[2K     \u001b[90m━━━━━━━━━━━━━━━━━━━━━━━━━━━━━━━━━━━━━━━━\u001b[0m \u001b[32m77.0/77.0 kB\u001b[0m \u001b[31m1.2 MB/s\u001b[0m eta \u001b[36m0:00:00\u001b[0m\n",
            "\u001b[?25hRequirement already satisfied: requests>=2.20 in /usr/local/lib/python3.10/dist-packages (from openai) (2.31.0)\n",
            "Requirement already satisfied: tqdm in /usr/local/lib/python3.10/dist-packages (from openai) (4.66.1)\n",
            "Requirement already satisfied: aiohttp in /usr/local/lib/python3.10/dist-packages (from openai) (3.8.6)\n",
            "Requirement already satisfied: charset-normalizer<4,>=2 in /usr/local/lib/python3.10/dist-packages (from requests>=2.20->openai) (3.3.0)\n",
            "Requirement already satisfied: idna<4,>=2.5 in /usr/local/lib/python3.10/dist-packages (from requests>=2.20->openai) (3.4)\n",
            "Requirement already satisfied: urllib3<3,>=1.21.1 in /usr/local/lib/python3.10/dist-packages (from requests>=2.20->openai) (2.0.7)\n",
            "Requirement already satisfied: certifi>=2017.4.17 in /usr/local/lib/python3.10/dist-packages (from requests>=2.20->openai) (2023.7.22)\n",
            "Requirement already satisfied: attrs>=17.3.0 in /usr/local/lib/python3.10/dist-packages (from aiohttp->openai) (23.1.0)\n",
            "Requirement already satisfied: multidict<7.0,>=4.5 in /usr/local/lib/python3.10/dist-packages (from aiohttp->openai) (6.0.4)\n",
            "Requirement already satisfied: async-timeout<5.0,>=4.0.0a3 in /usr/local/lib/python3.10/dist-packages (from aiohttp->openai) (4.0.3)\n",
            "Requirement already satisfied: yarl<2.0,>=1.0 in /usr/local/lib/python3.10/dist-packages (from aiohttp->openai) (1.9.2)\n",
            "Requirement already satisfied: frozenlist>=1.1.1 in /usr/local/lib/python3.10/dist-packages (from aiohttp->openai) (1.4.0)\n",
            "Requirement already satisfied: aiosignal>=1.1.2 in /usr/local/lib/python3.10/dist-packages (from aiohttp->openai) (1.3.1)\n",
            "Installing collected packages: openai\n",
            "\u001b[31mERROR: pip's dependency resolver does not currently take into account all the packages that are installed. This behaviour is the source of the following dependency conflicts.\n",
            "llmx 0.0.15a0 requires cohere, which is not installed.\n",
            "llmx 0.0.15a0 requires tiktoken, which is not installed.\u001b[0m\u001b[31m\n",
            "\u001b[0mSuccessfully installed openai-0.28.1\n",
            "Collecting tiktoken\n",
            "  Downloading tiktoken-0.5.1-cp310-cp310-manylinux_2_17_x86_64.manylinux2014_x86_64.whl (2.0 MB)\n",
            "\u001b[2K     \u001b[90m━━━━━━━━━━━━━━━━━━━━━━━━━━━━━━━━━━━━━━━━\u001b[0m \u001b[32m2.0/2.0 MB\u001b[0m \u001b[31m24.7 MB/s\u001b[0m eta \u001b[36m0:00:00\u001b[0m\n",
            "\u001b[?25hRequirement already satisfied: regex>=2022.1.18 in /usr/local/lib/python3.10/dist-packages (from tiktoken) (2023.6.3)\n",
            "Requirement already satisfied: requests>=2.26.0 in /usr/local/lib/python3.10/dist-packages (from tiktoken) (2.31.0)\n",
            "Requirement already satisfied: charset-normalizer<4,>=2 in /usr/local/lib/python3.10/dist-packages (from requests>=2.26.0->tiktoken) (3.3.0)\n",
            "Requirement already satisfied: idna<4,>=2.5 in /usr/local/lib/python3.10/dist-packages (from requests>=2.26.0->tiktoken) (3.4)\n",
            "Requirement already satisfied: urllib3<3,>=1.21.1 in /usr/local/lib/python3.10/dist-packages (from requests>=2.26.0->tiktoken) (2.0.7)\n",
            "Requirement already satisfied: certifi>=2017.4.17 in /usr/local/lib/python3.10/dist-packages (from requests>=2.26.0->tiktoken) (2023.7.22)\n",
            "Installing collected packages: tiktoken\n",
            "\u001b[31mERROR: pip's dependency resolver does not currently take into account all the packages that are installed. This behaviour is the source of the following dependency conflicts.\n",
            "llmx 0.0.15a0 requires cohere, which is not installed.\u001b[0m\u001b[31m\n",
            "\u001b[0mSuccessfully installed tiktoken-0.5.1\n"
          ]
        }
      ],
      "source": [
        "!pip install openai\n",
        "!pip install tiktoken"
      ]
    },
    {
      "cell_type": "code",
      "source": [
        "import openai\n",
        "import pandas as pd"
      ],
      "metadata": {
        "id": "hDzijRnb6Z3z"
      },
      "execution_count": 2,
      "outputs": []
    },
    {
      "cell_type": "code",
      "source": [
        "openai.api_key = '<API Key>'"
      ],
      "metadata": {
        "id": "i9KlokLZx54I"
      },
      "execution_count": 3,
      "outputs": []
    },
    {
      "cell_type": "markdown",
      "source": [
        "## Read the data"
      ],
      "metadata": {
        "id": "__oWqkps63Ut"
      }
    },
    {
      "cell_type": "code",
      "source": [
        "df = pd.read_csv(\"/content/drive/MyDrive/DAMG7245/pdf_content_openai.csv\")"
      ],
      "metadata": {
        "id": "eZp8VOwSlfyW"
      },
      "execution_count": 4,
      "outputs": []
    },
    {
      "cell_type": "code",
      "source": [
        "df.head()"
      ],
      "metadata": {
        "colab": {
          "base_uri": "https://localhost:8080/",
          "height": 174
        },
        "id": "_Xk7KxH1lpM4",
        "outputId": "659a9260-5d59-4b51-d03e-d60ca94effe7"
      },
      "execution_count": 5,
      "outputs": [
        {
          "output_type": "execute_result",
          "data": {
            "text/plain": [
              "   num_tokens                                            content\n",
              "0         993  OMB APPROVAL OMB Number: 3235-0554 Expires:  F...\n",
              "1         997  This collection of information has been review...\n",
              "2         986  The exchange consents that service of any civi...\n",
              "3         900  Exhibit D Describe the manner of operation of ..."
            ],
            "text/html": [
              "\n",
              "  <div id=\"df-7167f3d3-1255-4680-b9ed-950e1fb0cb81\" class=\"colab-df-container\">\n",
              "    <div>\n",
              "<style scoped>\n",
              "    .dataframe tbody tr th:only-of-type {\n",
              "        vertical-align: middle;\n",
              "    }\n",
              "\n",
              "    .dataframe tbody tr th {\n",
              "        vertical-align: top;\n",
              "    }\n",
              "\n",
              "    .dataframe thead th {\n",
              "        text-align: right;\n",
              "    }\n",
              "</style>\n",
              "<table border=\"1\" class=\"dataframe\">\n",
              "  <thead>\n",
              "    <tr style=\"text-align: right;\">\n",
              "      <th></th>\n",
              "      <th>num_tokens</th>\n",
              "      <th>content</th>\n",
              "    </tr>\n",
              "  </thead>\n",
              "  <tbody>\n",
              "    <tr>\n",
              "      <th>0</th>\n",
              "      <td>993</td>\n",
              "      <td>OMB APPROVAL OMB Number: 3235-0554 Expires:  F...</td>\n",
              "    </tr>\n",
              "    <tr>\n",
              "      <th>1</th>\n",
              "      <td>997</td>\n",
              "      <td>This collection of information has been review...</td>\n",
              "    </tr>\n",
              "    <tr>\n",
              "      <th>2</th>\n",
              "      <td>986</td>\n",
              "      <td>The exchange consents that service of any civi...</td>\n",
              "    </tr>\n",
              "    <tr>\n",
              "      <th>3</th>\n",
              "      <td>900</td>\n",
              "      <td>Exhibit D Describe the manner of operation of ...</td>\n",
              "    </tr>\n",
              "  </tbody>\n",
              "</table>\n",
              "</div>\n",
              "    <div class=\"colab-df-buttons\">\n",
              "\n",
              "  <div class=\"colab-df-container\">\n",
              "    <button class=\"colab-df-convert\" onclick=\"convertToInteractive('df-7167f3d3-1255-4680-b9ed-950e1fb0cb81')\"\n",
              "            title=\"Convert this dataframe to an interactive table.\"\n",
              "            style=\"display:none;\">\n",
              "\n",
              "  <svg xmlns=\"http://www.w3.org/2000/svg\" height=\"24px\" viewBox=\"0 -960 960 960\">\n",
              "    <path d=\"M120-120v-720h720v720H120Zm60-500h600v-160H180v160Zm220 220h160v-160H400v160Zm0 220h160v-160H400v160ZM180-400h160v-160H180v160Zm440 0h160v-160H620v160ZM180-180h160v-160H180v160Zm440 0h160v-160H620v160Z\"/>\n",
              "  </svg>\n",
              "    </button>\n",
              "\n",
              "  <style>\n",
              "    .colab-df-container {\n",
              "      display:flex;\n",
              "      gap: 12px;\n",
              "    }\n",
              "\n",
              "    .colab-df-convert {\n",
              "      background-color: #E8F0FE;\n",
              "      border: none;\n",
              "      border-radius: 50%;\n",
              "      cursor: pointer;\n",
              "      display: none;\n",
              "      fill: #1967D2;\n",
              "      height: 32px;\n",
              "      padding: 0 0 0 0;\n",
              "      width: 32px;\n",
              "    }\n",
              "\n",
              "    .colab-df-convert:hover {\n",
              "      background-color: #E2EBFA;\n",
              "      box-shadow: 0px 1px 2px rgba(60, 64, 67, 0.3), 0px 1px 3px 1px rgba(60, 64, 67, 0.15);\n",
              "      fill: #174EA6;\n",
              "    }\n",
              "\n",
              "    .colab-df-buttons div {\n",
              "      margin-bottom: 4px;\n",
              "    }\n",
              "\n",
              "    [theme=dark] .colab-df-convert {\n",
              "      background-color: #3B4455;\n",
              "      fill: #D2E3FC;\n",
              "    }\n",
              "\n",
              "    [theme=dark] .colab-df-convert:hover {\n",
              "      background-color: #434B5C;\n",
              "      box-shadow: 0px 1px 3px 1px rgba(0, 0, 0, 0.15);\n",
              "      filter: drop-shadow(0px 1px 2px rgba(0, 0, 0, 0.3));\n",
              "      fill: #FFFFFF;\n",
              "    }\n",
              "  </style>\n",
              "\n",
              "    <script>\n",
              "      const buttonEl =\n",
              "        document.querySelector('#df-7167f3d3-1255-4680-b9ed-950e1fb0cb81 button.colab-df-convert');\n",
              "      buttonEl.style.display =\n",
              "        google.colab.kernel.accessAllowed ? 'block' : 'none';\n",
              "\n",
              "      async function convertToInteractive(key) {\n",
              "        const element = document.querySelector('#df-7167f3d3-1255-4680-b9ed-950e1fb0cb81');\n",
              "        const dataTable =\n",
              "          await google.colab.kernel.invokeFunction('convertToInteractive',\n",
              "                                                    [key], {});\n",
              "        if (!dataTable) return;\n",
              "\n",
              "        const docLinkHtml = 'Like what you see? Visit the ' +\n",
              "          '<a target=\"_blank\" href=https://colab.research.google.com/notebooks/data_table.ipynb>data table notebook</a>'\n",
              "          + ' to learn more about interactive tables.';\n",
              "        element.innerHTML = '';\n",
              "        dataTable['output_type'] = 'display_data';\n",
              "        await google.colab.output.renderOutput(dataTable, element);\n",
              "        const docLink = document.createElement('div');\n",
              "        docLink.innerHTML = docLinkHtml;\n",
              "        element.appendChild(docLink);\n",
              "      }\n",
              "    </script>\n",
              "  </div>\n",
              "\n",
              "\n",
              "<div id=\"df-504836bc-ae16-416b-ae6d-f338a5b964af\">\n",
              "  <button class=\"colab-df-quickchart\" onclick=\"quickchart('df-504836bc-ae16-416b-ae6d-f338a5b964af')\"\n",
              "            title=\"Suggest charts.\"\n",
              "            style=\"display:none;\">\n",
              "\n",
              "<svg xmlns=\"http://www.w3.org/2000/svg\" height=\"24px\"viewBox=\"0 0 24 24\"\n",
              "     width=\"24px\">\n",
              "    <g>\n",
              "        <path d=\"M19 3H5c-1.1 0-2 .9-2 2v14c0 1.1.9 2 2 2h14c1.1 0 2-.9 2-2V5c0-1.1-.9-2-2-2zM9 17H7v-7h2v7zm4 0h-2V7h2v10zm4 0h-2v-4h2v4z\"/>\n",
              "    </g>\n",
              "</svg>\n",
              "  </button>\n",
              "\n",
              "<style>\n",
              "  .colab-df-quickchart {\n",
              "      --bg-color: #E8F0FE;\n",
              "      --fill-color: #1967D2;\n",
              "      --hover-bg-color: #E2EBFA;\n",
              "      --hover-fill-color: #174EA6;\n",
              "      --disabled-fill-color: #AAA;\n",
              "      --disabled-bg-color: #DDD;\n",
              "  }\n",
              "\n",
              "  [theme=dark] .colab-df-quickchart {\n",
              "      --bg-color: #3B4455;\n",
              "      --fill-color: #D2E3FC;\n",
              "      --hover-bg-color: #434B5C;\n",
              "      --hover-fill-color: #FFFFFF;\n",
              "      --disabled-bg-color: #3B4455;\n",
              "      --disabled-fill-color: #666;\n",
              "  }\n",
              "\n",
              "  .colab-df-quickchart {\n",
              "    background-color: var(--bg-color);\n",
              "    border: none;\n",
              "    border-radius: 50%;\n",
              "    cursor: pointer;\n",
              "    display: none;\n",
              "    fill: var(--fill-color);\n",
              "    height: 32px;\n",
              "    padding: 0;\n",
              "    width: 32px;\n",
              "  }\n",
              "\n",
              "  .colab-df-quickchart:hover {\n",
              "    background-color: var(--hover-bg-color);\n",
              "    box-shadow: 0 1px 2px rgba(60, 64, 67, 0.3), 0 1px 3px 1px rgba(60, 64, 67, 0.15);\n",
              "    fill: var(--button-hover-fill-color);\n",
              "  }\n",
              "\n",
              "  .colab-df-quickchart-complete:disabled,\n",
              "  .colab-df-quickchart-complete:disabled:hover {\n",
              "    background-color: var(--disabled-bg-color);\n",
              "    fill: var(--disabled-fill-color);\n",
              "    box-shadow: none;\n",
              "  }\n",
              "\n",
              "  .colab-df-spinner {\n",
              "    border: 2px solid var(--fill-color);\n",
              "    border-color: transparent;\n",
              "    border-bottom-color: var(--fill-color);\n",
              "    animation:\n",
              "      spin 1s steps(1) infinite;\n",
              "  }\n",
              "\n",
              "  @keyframes spin {\n",
              "    0% {\n",
              "      border-color: transparent;\n",
              "      border-bottom-color: var(--fill-color);\n",
              "      border-left-color: var(--fill-color);\n",
              "    }\n",
              "    20% {\n",
              "      border-color: transparent;\n",
              "      border-left-color: var(--fill-color);\n",
              "      border-top-color: var(--fill-color);\n",
              "    }\n",
              "    30% {\n",
              "      border-color: transparent;\n",
              "      border-left-color: var(--fill-color);\n",
              "      border-top-color: var(--fill-color);\n",
              "      border-right-color: var(--fill-color);\n",
              "    }\n",
              "    40% {\n",
              "      border-color: transparent;\n",
              "      border-right-color: var(--fill-color);\n",
              "      border-top-color: var(--fill-color);\n",
              "    }\n",
              "    60% {\n",
              "      border-color: transparent;\n",
              "      border-right-color: var(--fill-color);\n",
              "    }\n",
              "    80% {\n",
              "      border-color: transparent;\n",
              "      border-right-color: var(--fill-color);\n",
              "      border-bottom-color: var(--fill-color);\n",
              "    }\n",
              "    90% {\n",
              "      border-color: transparent;\n",
              "      border-bottom-color: var(--fill-color);\n",
              "    }\n",
              "  }\n",
              "</style>\n",
              "\n",
              "  <script>\n",
              "    async function quickchart(key) {\n",
              "      const quickchartButtonEl =\n",
              "        document.querySelector('#' + key + ' button');\n",
              "      quickchartButtonEl.disabled = true;  // To prevent multiple clicks.\n",
              "      quickchartButtonEl.classList.add('colab-df-spinner');\n",
              "      try {\n",
              "        const charts = await google.colab.kernel.invokeFunction(\n",
              "            'suggestCharts', [key], {});\n",
              "      } catch (error) {\n",
              "        console.error('Error during call to suggestCharts:', error);\n",
              "      }\n",
              "      quickchartButtonEl.classList.remove('colab-df-spinner');\n",
              "      quickchartButtonEl.classList.add('colab-df-quickchart-complete');\n",
              "    }\n",
              "    (() => {\n",
              "      let quickchartButtonEl =\n",
              "        document.querySelector('#df-504836bc-ae16-416b-ae6d-f338a5b964af button');\n",
              "      quickchartButtonEl.style.display =\n",
              "        google.colab.kernel.accessAllowed ? 'block' : 'none';\n",
              "    })();\n",
              "  </script>\n",
              "</div>\n",
              "    </div>\n",
              "  </div>\n"
            ]
          },
          "metadata": {},
          "execution_count": 5
        }
      ]
    },
    {
      "cell_type": "markdown",
      "source": [
        "## Create questions based on the context"
      ],
      "metadata": {
        "id": "vp-Xo1q_6N_N"
      }
    },
    {
      "cell_type": "markdown",
      "source": [
        "Utilize the davinci-instruct model to create a set of viable questions that pertain to the information found in the sec form. Please note that we've applied a temperature value of 0, but it can be experimented to explore the use of a higher temperature setting to generate a wider range of questions.\n",
        "\n",
        "\"Temperature\" parameter influences the randomness and creativity of the generated text. A higher temperature value results in more diverse and creative outputs, while a lower value, such as 0, makes the output more focused and deterministic."
      ],
      "metadata": {
        "id": "Cxs-UAaRFx3b"
      }
    },
    {
      "cell_type": "code",
      "source": [
        "# Define a function to generate questions based on a given context.\n",
        "def get_questions(context):\n",
        "    try:\n",
        "        # Create a completion request to the OpenAI engine.\n",
        "        response = openai.Completion.create(\n",
        "            engine=\"davinci-instruct-beta-v3\",\n",
        "            # Use the context as the basis for generating questions.\n",
        "            prompt=f\"Write questions based on the text below. The text has been parsed from a SEC public form\\n\\nText: {context}\\n\\nQuestions:\\n1.\",\n",
        "            temperature=0,  # Control randomness (0 means deterministic output).\n",
        "            max_tokens=200,  # Limit the length of the response.\n",
        "            top_p=1,  # Probability for nucleus sampling (1 means always pick the top word).\n",
        "            frequency_penalty=0,  # Adjust the frequency penalty.\n",
        "            presence_penalty=0,  # Adjust the presence penalty.\n",
        "            stop=[\"\\n\\n\"]  # Specify when to stop generating text (at double line breaks).\n",
        "        )\n",
        "\n",
        "        # Extract and return the generated questions from the response.\n",
        "        return response['choices'][0]['text']\n",
        "    except Exception as e:\n",
        "        # Handle exceptions and print an error message.\n",
        "        print(e)\n",
        "        return \"\""
      ],
      "metadata": {
        "id": "4q6MNB0Yx5Iw"
      },
      "execution_count": 6,
      "outputs": []
    },
    {
      "cell_type": "code",
      "source": [
        "# Apply the get_questions function to the 'content' column of the DataFrame and store the results in a new 'questions' column\n",
        "df['questions'] = df.content.apply(get_questions)\n",
        "\n",
        "# Prepend a \"1.\" to each generated question\n",
        "df['questions'] = \"1.\" + df.questions\n",
        "\n",
        "# Print the first generated question (for demonstration purposes)\n",
        "print(df[['questions']].values[0][0])"
      ],
      "metadata": {
        "colab": {
          "base_uri": "https://localhost:8080/"
        },
        "id": "vZYDJZ3pmEh8",
        "outputId": "a3ce0468-1432-4f55-c3f9-277e3f7a7ce0"
      },
      "execution_count": 7,
      "outputs": [
        {
          "output_type": "stream",
          "name": "stdout",
          "text": [
            "1. What is the purpose of Form 1-N?\n",
            "2. What is the contact employee for the Security Futures Product Exchange?\n",
            "3. What is the format of Form 1-N?\n",
            "4. How many copies of Form 1-N are required to be filed?\n",
            "5. What is the Paperwork Reduction Act Disclosure for Form 1-N?\n",
            "6. What is the estimated burden hours for Form 1-N?\n"
          ]
        }
      ]
    },
    {
      "cell_type": "markdown",
      "source": [
        "The prompt is fed in the 'get_questions' function to generate questions for each content in the dataframe. Few example questions can be seen above."
      ],
      "metadata": {
        "id": "1tZXgZS2Heb7"
      }
    },
    {
      "cell_type": "markdown",
      "source": [
        "## Create answers based on the context"
      ],
      "metadata": {
        "id": "yBbxV8av6JXG"
      }
    },
    {
      "cell_type": "markdown",
      "source": [
        "Utilize the davinci-instruct model to create answers for the questions build above passing the same information found in the sec form."
      ],
      "metadata": {
        "id": "Kl-sG4qbJnAK"
      }
    },
    {
      "cell_type": "code",
      "source": [
        "# Define a function named 'get_answers' that takes a 'row' as input\n",
        "def get_answers(row):\n",
        "    try:\n",
        "        # Create a response using the OpenAI Completion API\n",
        "        response = openai.Completion.create(\n",
        "            engine=\"davinci-instruct-beta-v3\",\n",
        "            # Construct a prompt with the provided 'content', 'questions', and placeholders for answers\n",
        "            prompt=f\"Write answer based on the text below\\n\\nText: {row.content}\\n\\nQuestions:\\n{row.questions}\\n\\nAnswers:\\n1.\",\n",
        "            temperature=0,\n",
        "            max_tokens=200,\n",
        "            top_p=1,\n",
        "            frequency_penalty=0,\n",
        "            presence_penalty=0\n",
        "        )\n",
        "        # Extract and return the text content from the response\n",
        "        return response['choices'][0]['text']\n",
        "    except Exception as e:\n",
        "        # If an exception occurs, print the error message and return an empty string\n",
        "        print(e)\n",
        "        return \"\""
      ],
      "metadata": {
        "id": "I4ZSTsfv6Std"
      },
      "execution_count": 8,
      "outputs": []
    },
    {
      "cell_type": "code",
      "source": [
        "# Apply the 'get_answers' function to each row in the DataFrame 'df' using 'apply' along the rows (axis=1)\n",
        "df['answers'] = df.apply(get_answers, axis=1)\n",
        "\n",
        "# Add a prefix \"1.\" to each answer in the 'answers' column\n",
        "df['answers'] = \"1.\" + df['answers']\n",
        "\n",
        "# Drop rows with missing (NaN) values, reset the index, and drop the previous index column\n",
        "df = df.dropna().reset_index().drop('index', axis=1)\n",
        "\n",
        "# Print the 'answers' from the first row of the DataFrame\n",
        "print(df[['answers']].values[0][0])"
      ],
      "metadata": {
        "colab": {
          "base_uri": "https://localhost:8080/"
        },
        "id": "mEmX-390ma5N",
        "outputId": "d0d5d87a-8cd8-4c93-91df-134bbf5a41ee"
      },
      "execution_count": 13,
      "outputs": [
        {
          "output_type": "stream",
          "name": "stdout",
          "text": [
            "1. Form 1-N is the form for notice of registration as a national securities exchange for the sole purpose of trading security futures products pursuant to Section 6(g) of the Securities Exchange Act of 1934.\n",
            "2. The contact employee for the Security Futures Product Exchange is the individual listed on the Execution Page (Page 1) of Form 1-N as the contact employee.\n",
            "3. Form 1-N is typed and must include an Execution Page (Page 1) with original manual signatures.\n",
            "4. An exchange filing Form 1-N must submit one original and two copies of Form 1-N to the Securities and Exchange Commission, Division of Market Regulation, Office of Market Supervision, 450 Fifth Street, NW, Washington, DC 20549.\n",
            "5. Security Futures Product Exchanges are required to update certain information filed on Form 1-N on a periodic basis.\n",
            "6. It is estimated that an exchange will spend approximately 31 hours completing the initial application on Form 1-N\n"
          ]
        }
      ]
    },
    {
      "cell_type": "markdown",
      "source": [
        "Above are the answers to the questions build by the same model based on the context from sec form. We can see that the answers are sensible enough according to the context passed. Hence, the model works fairly well"
      ],
      "metadata": {
        "id": "g1Mc79eOJ9LA"
      }
    },
    {
      "cell_type": "code",
      "source": [
        "df.head()"
      ],
      "metadata": {
        "colab": {
          "base_uri": "https://localhost:8080/",
          "height": 209
        },
        "id": "4J0P4x0RnVAq",
        "outputId": "9e9c3cdf-f7a2-4781-9d77-18a96a4c688f"
      },
      "execution_count": 14,
      "outputs": [
        {
          "output_type": "execute_result",
          "data": {
            "text/plain": [
              "   num_tokens                                            content  \\\n",
              "0         993  OMB APPROVAL OMB Number: 3235-0554 Expires:  F...   \n",
              "1         997  This collection of information has been review...   \n",
              "2         986  The exchange consents that service of any civi...   \n",
              "3         900  Exhibit D Describe the manner of operation of ...   \n",
              "\n",
              "                                           questions  \\\n",
              "0  1. What is the purpose of Form 1-N?\\n2. What i...   \n",
              "1  1. What is the name of the Security Futures Pr...   \n",
              "2  1. What is the name of the form being filed?\\n...   \n",
              "3  1. What is the means of access to the System?\\...   \n",
              "\n",
              "                                             answers  \n",
              "0  1. Form 1-N is the form for notice of registra...  \n",
              "1  1. The Security Futures Product Exchange is th...  \n",
              "2  1. The name of the form being filed is Form 1-...  \n",
              "3  1. The means of access to the System is throug...  "
            ],
            "text/html": [
              "\n",
              "  <div id=\"df-3f42ae35-8d71-47c5-bc64-a516a730baf8\" class=\"colab-df-container\">\n",
              "    <div>\n",
              "<style scoped>\n",
              "    .dataframe tbody tr th:only-of-type {\n",
              "        vertical-align: middle;\n",
              "    }\n",
              "\n",
              "    .dataframe tbody tr th {\n",
              "        vertical-align: top;\n",
              "    }\n",
              "\n",
              "    .dataframe thead th {\n",
              "        text-align: right;\n",
              "    }\n",
              "</style>\n",
              "<table border=\"1\" class=\"dataframe\">\n",
              "  <thead>\n",
              "    <tr style=\"text-align: right;\">\n",
              "      <th></th>\n",
              "      <th>num_tokens</th>\n",
              "      <th>content</th>\n",
              "      <th>questions</th>\n",
              "      <th>answers</th>\n",
              "    </tr>\n",
              "  </thead>\n",
              "  <tbody>\n",
              "    <tr>\n",
              "      <th>0</th>\n",
              "      <td>993</td>\n",
              "      <td>OMB APPROVAL OMB Number: 3235-0554 Expires:  F...</td>\n",
              "      <td>1. What is the purpose of Form 1-N?\\n2. What i...</td>\n",
              "      <td>1. Form 1-N is the form for notice of registra...</td>\n",
              "    </tr>\n",
              "    <tr>\n",
              "      <th>1</th>\n",
              "      <td>997</td>\n",
              "      <td>This collection of information has been review...</td>\n",
              "      <td>1. What is the name of the Security Futures Pr...</td>\n",
              "      <td>1. The Security Futures Product Exchange is th...</td>\n",
              "    </tr>\n",
              "    <tr>\n",
              "      <th>2</th>\n",
              "      <td>986</td>\n",
              "      <td>The exchange consents that service of any civi...</td>\n",
              "      <td>1. What is the name of the form being filed?\\n...</td>\n",
              "      <td>1. The name of the form being filed is Form 1-...</td>\n",
              "    </tr>\n",
              "    <tr>\n",
              "      <th>3</th>\n",
              "      <td>900</td>\n",
              "      <td>Exhibit D Describe the manner of operation of ...</td>\n",
              "      <td>1. What is the means of access to the System?\\...</td>\n",
              "      <td>1. The means of access to the System is throug...</td>\n",
              "    </tr>\n",
              "  </tbody>\n",
              "</table>\n",
              "</div>\n",
              "    <div class=\"colab-df-buttons\">\n",
              "\n",
              "  <div class=\"colab-df-container\">\n",
              "    <button class=\"colab-df-convert\" onclick=\"convertToInteractive('df-3f42ae35-8d71-47c5-bc64-a516a730baf8')\"\n",
              "            title=\"Convert this dataframe to an interactive table.\"\n",
              "            style=\"display:none;\">\n",
              "\n",
              "  <svg xmlns=\"http://www.w3.org/2000/svg\" height=\"24px\" viewBox=\"0 -960 960 960\">\n",
              "    <path d=\"M120-120v-720h720v720H120Zm60-500h600v-160H180v160Zm220 220h160v-160H400v160Zm0 220h160v-160H400v160ZM180-400h160v-160H180v160Zm440 0h160v-160H620v160ZM180-180h160v-160H180v160Zm440 0h160v-160H620v160Z\"/>\n",
              "  </svg>\n",
              "    </button>\n",
              "\n",
              "  <style>\n",
              "    .colab-df-container {\n",
              "      display:flex;\n",
              "      gap: 12px;\n",
              "    }\n",
              "\n",
              "    .colab-df-convert {\n",
              "      background-color: #E8F0FE;\n",
              "      border: none;\n",
              "      border-radius: 50%;\n",
              "      cursor: pointer;\n",
              "      display: none;\n",
              "      fill: #1967D2;\n",
              "      height: 32px;\n",
              "      padding: 0 0 0 0;\n",
              "      width: 32px;\n",
              "    }\n",
              "\n",
              "    .colab-df-convert:hover {\n",
              "      background-color: #E2EBFA;\n",
              "      box-shadow: 0px 1px 2px rgba(60, 64, 67, 0.3), 0px 1px 3px 1px rgba(60, 64, 67, 0.15);\n",
              "      fill: #174EA6;\n",
              "    }\n",
              "\n",
              "    .colab-df-buttons div {\n",
              "      margin-bottom: 4px;\n",
              "    }\n",
              "\n",
              "    [theme=dark] .colab-df-convert {\n",
              "      background-color: #3B4455;\n",
              "      fill: #D2E3FC;\n",
              "    }\n",
              "\n",
              "    [theme=dark] .colab-df-convert:hover {\n",
              "      background-color: #434B5C;\n",
              "      box-shadow: 0px 1px 3px 1px rgba(0, 0, 0, 0.15);\n",
              "      filter: drop-shadow(0px 1px 2px rgba(0, 0, 0, 0.3));\n",
              "      fill: #FFFFFF;\n",
              "    }\n",
              "  </style>\n",
              "\n",
              "    <script>\n",
              "      const buttonEl =\n",
              "        document.querySelector('#df-3f42ae35-8d71-47c5-bc64-a516a730baf8 button.colab-df-convert');\n",
              "      buttonEl.style.display =\n",
              "        google.colab.kernel.accessAllowed ? 'block' : 'none';\n",
              "\n",
              "      async function convertToInteractive(key) {\n",
              "        const element = document.querySelector('#df-3f42ae35-8d71-47c5-bc64-a516a730baf8');\n",
              "        const dataTable =\n",
              "          await google.colab.kernel.invokeFunction('convertToInteractive',\n",
              "                                                    [key], {});\n",
              "        if (!dataTable) return;\n",
              "\n",
              "        const docLinkHtml = 'Like what you see? Visit the ' +\n",
              "          '<a target=\"_blank\" href=https://colab.research.google.com/notebooks/data_table.ipynb>data table notebook</a>'\n",
              "          + ' to learn more about interactive tables.';\n",
              "        element.innerHTML = '';\n",
              "        dataTable['output_type'] = 'display_data';\n",
              "        await google.colab.output.renderOutput(dataTable, element);\n",
              "        const docLink = document.createElement('div');\n",
              "        docLink.innerHTML = docLinkHtml;\n",
              "        element.appendChild(docLink);\n",
              "      }\n",
              "    </script>\n",
              "  </div>\n",
              "\n",
              "\n",
              "<div id=\"df-8f127468-63ed-494e-bdf0-11c25938fa12\">\n",
              "  <button class=\"colab-df-quickchart\" onclick=\"quickchart('df-8f127468-63ed-494e-bdf0-11c25938fa12')\"\n",
              "            title=\"Suggest charts.\"\n",
              "            style=\"display:none;\">\n",
              "\n",
              "<svg xmlns=\"http://www.w3.org/2000/svg\" height=\"24px\"viewBox=\"0 0 24 24\"\n",
              "     width=\"24px\">\n",
              "    <g>\n",
              "        <path d=\"M19 3H5c-1.1 0-2 .9-2 2v14c0 1.1.9 2 2 2h14c1.1 0 2-.9 2-2V5c0-1.1-.9-2-2-2zM9 17H7v-7h2v7zm4 0h-2V7h2v10zm4 0h-2v-4h2v4z\"/>\n",
              "    </g>\n",
              "</svg>\n",
              "  </button>\n",
              "\n",
              "<style>\n",
              "  .colab-df-quickchart {\n",
              "      --bg-color: #E8F0FE;\n",
              "      --fill-color: #1967D2;\n",
              "      --hover-bg-color: #E2EBFA;\n",
              "      --hover-fill-color: #174EA6;\n",
              "      --disabled-fill-color: #AAA;\n",
              "      --disabled-bg-color: #DDD;\n",
              "  }\n",
              "\n",
              "  [theme=dark] .colab-df-quickchart {\n",
              "      --bg-color: #3B4455;\n",
              "      --fill-color: #D2E3FC;\n",
              "      --hover-bg-color: #434B5C;\n",
              "      --hover-fill-color: #FFFFFF;\n",
              "      --disabled-bg-color: #3B4455;\n",
              "      --disabled-fill-color: #666;\n",
              "  }\n",
              "\n",
              "  .colab-df-quickchart {\n",
              "    background-color: var(--bg-color);\n",
              "    border: none;\n",
              "    border-radius: 50%;\n",
              "    cursor: pointer;\n",
              "    display: none;\n",
              "    fill: var(--fill-color);\n",
              "    height: 32px;\n",
              "    padding: 0;\n",
              "    width: 32px;\n",
              "  }\n",
              "\n",
              "  .colab-df-quickchart:hover {\n",
              "    background-color: var(--hover-bg-color);\n",
              "    box-shadow: 0 1px 2px rgba(60, 64, 67, 0.3), 0 1px 3px 1px rgba(60, 64, 67, 0.15);\n",
              "    fill: var(--button-hover-fill-color);\n",
              "  }\n",
              "\n",
              "  .colab-df-quickchart-complete:disabled,\n",
              "  .colab-df-quickchart-complete:disabled:hover {\n",
              "    background-color: var(--disabled-bg-color);\n",
              "    fill: var(--disabled-fill-color);\n",
              "    box-shadow: none;\n",
              "  }\n",
              "\n",
              "  .colab-df-spinner {\n",
              "    border: 2px solid var(--fill-color);\n",
              "    border-color: transparent;\n",
              "    border-bottom-color: var(--fill-color);\n",
              "    animation:\n",
              "      spin 1s steps(1) infinite;\n",
              "  }\n",
              "\n",
              "  @keyframes spin {\n",
              "    0% {\n",
              "      border-color: transparent;\n",
              "      border-bottom-color: var(--fill-color);\n",
              "      border-left-color: var(--fill-color);\n",
              "    }\n",
              "    20% {\n",
              "      border-color: transparent;\n",
              "      border-left-color: var(--fill-color);\n",
              "      border-top-color: var(--fill-color);\n",
              "    }\n",
              "    30% {\n",
              "      border-color: transparent;\n",
              "      border-left-color: var(--fill-color);\n",
              "      border-top-color: var(--fill-color);\n",
              "      border-right-color: var(--fill-color);\n",
              "    }\n",
              "    40% {\n",
              "      border-color: transparent;\n",
              "      border-right-color: var(--fill-color);\n",
              "      border-top-color: var(--fill-color);\n",
              "    }\n",
              "    60% {\n",
              "      border-color: transparent;\n",
              "      border-right-color: var(--fill-color);\n",
              "    }\n",
              "    80% {\n",
              "      border-color: transparent;\n",
              "      border-right-color: var(--fill-color);\n",
              "      border-bottom-color: var(--fill-color);\n",
              "    }\n",
              "    90% {\n",
              "      border-color: transparent;\n",
              "      border-bottom-color: var(--fill-color);\n",
              "    }\n",
              "  }\n",
              "</style>\n",
              "\n",
              "  <script>\n",
              "    async function quickchart(key) {\n",
              "      const quickchartButtonEl =\n",
              "        document.querySelector('#' + key + ' button');\n",
              "      quickchartButtonEl.disabled = true;  // To prevent multiple clicks.\n",
              "      quickchartButtonEl.classList.add('colab-df-spinner');\n",
              "      try {\n",
              "        const charts = await google.colab.kernel.invokeFunction(\n",
              "            'suggestCharts', [key], {});\n",
              "      } catch (error) {\n",
              "        console.error('Error during call to suggestCharts:', error);\n",
              "      }\n",
              "      quickchartButtonEl.classList.remove('colab-df-spinner');\n",
              "      quickchartButtonEl.classList.add('colab-df-quickchart-complete');\n",
              "    }\n",
              "    (() => {\n",
              "      let quickchartButtonEl =\n",
              "        document.querySelector('#df-8f127468-63ed-494e-bdf0-11c25938fa12 button');\n",
              "      quickchartButtonEl.style.display =\n",
              "        google.colab.kernel.accessAllowed ? 'block' : 'none';\n",
              "    })();\n",
              "  </script>\n",
              "</div>\n",
              "    </div>\n",
              "  </div>\n"
            ]
          },
          "metadata": {},
          "execution_count": 14
        }
      ]
    },
    {
      "cell_type": "markdown",
      "source": [
        "## Save the Q&A dataset"
      ],
      "metadata": {
        "id": "tp_yvo2cKRNQ"
      }
    },
    {
      "cell_type": "markdown",
      "source": [
        "We stored this dataframe as a csv file, too utilize in next the notebook."
      ],
      "metadata": {
        "id": "asheU_zKKYkH"
      }
    },
    {
      "cell_type": "code",
      "source": [
        "df.to_csv(\"/content/drive/MyDrive/DAMG7245/pdf_content_openai_qa.csv\", index=False)"
      ],
      "metadata": {
        "id": "tWXZQOianZHW"
      },
      "execution_count": 15,
      "outputs": []
    },
    {
      "cell_type": "markdown",
      "source": [
        "## Search Content"
      ],
      "metadata": {
        "id": "5wou4SCzhom8"
      }
    },
    {
      "cell_type": "markdown",
      "source": [
        "We will now create a search function that serves the following purposes:\n",
        "\n",
        "1. Accepts a user query and a DataFrame containing text and embedding columns.\n",
        "2. Utilizes the OpenAI API to embed the user query.\n",
        "3. Ranks the text entries based on the distance between the query embedding and text embeddings.\n",
        "4. Returns two lists:\n",
        "   - The most relevant N texts, ordered by their relevance.\n",
        "   - The respective relevance scores for each of these texts."
      ],
      "metadata": {
        "id": "lGeSKV5WzJx5"
      }
    },
    {
      "cell_type": "code",
      "source": [
        "# calculate embeddings\n",
        "EMBEDDING_MODEL = \"text-embedding-ada-002\"  # OpenAI's best embeddings as of Apr 2023\n",
        "\n",
        "# Define a function to generate embeddings for a single text\n",
        "def generate_embeddings(text):\n",
        "    # Create embeddings for the given 'text' using the specified EMBEDDING_MODEL\n",
        "    response = openai.Embedding.create(model=EMBEDDING_MODEL, input=text)\n",
        "\n",
        "    # Extract the embeddings from the API response and join them as a comma-separated string\n",
        "    return ', '.join(map(str, response['data'][0]['embedding']))\n",
        "\n",
        "# Apply the 'generate_embeddings' function to each row in the 'content' column of the DataFrame 'df'\n",
        "df['embeddings'] = df['content'].apply(generate_embeddings)"
      ],
      "metadata": {
        "id": "7nXCKrWmryJK"
      },
      "execution_count": 16,
      "outputs": []
    },
    {
      "cell_type": "code",
      "source": [
        "df.head()"
      ],
      "metadata": {
        "colab": {
          "base_uri": "https://localhost:8080/",
          "height": 244
        },
        "id": "himkiHyEa50Q",
        "outputId": "6214c326-cf6f-4e19-a779-94ce2d83219f"
      },
      "execution_count": 17,
      "outputs": [
        {
          "output_type": "execute_result",
          "data": {
            "text/plain": [
              "   num_tokens                                            content  \\\n",
              "0         993  OMB APPROVAL OMB Number: 3235-0554 Expires:  F...   \n",
              "1         997  This collection of information has been review...   \n",
              "2         986  The exchange consents that service of any civi...   \n",
              "3         900  Exhibit D Describe the manner of operation of ...   \n",
              "\n",
              "                                           questions  \\\n",
              "0  1. What is the purpose of Form 1-N?\\n2. What i...   \n",
              "1  1. What is the name of the Security Futures Pr...   \n",
              "2  1. What is the name of the form being filed?\\n...   \n",
              "3  1. What is the means of access to the System?\\...   \n",
              "\n",
              "                                             answers  \\\n",
              "0  1. Form 1-N is the form for notice of registra...   \n",
              "1  1. The Security Futures Product Exchange is th...   \n",
              "2  1. The name of the form being filed is Form 1-...   \n",
              "3  1. The means of access to the System is throug...   \n",
              "\n",
              "                                          embeddings  \n",
              "0  -0.023155031725764275, -0.012439599260687828, ...  \n",
              "1  -0.01856633462011814, 0.008737890981137753, -0...  \n",
              "2  -0.021929476410150528, -0.005438805092126131, ...  \n",
              "3  -0.01889314502477646, 0.005769156385213137, -0...  "
            ],
            "text/html": [
              "\n",
              "  <div id=\"df-e94edfa2-36ff-46d4-8b75-08203934fd0c\" class=\"colab-df-container\">\n",
              "    <div>\n",
              "<style scoped>\n",
              "    .dataframe tbody tr th:only-of-type {\n",
              "        vertical-align: middle;\n",
              "    }\n",
              "\n",
              "    .dataframe tbody tr th {\n",
              "        vertical-align: top;\n",
              "    }\n",
              "\n",
              "    .dataframe thead th {\n",
              "        text-align: right;\n",
              "    }\n",
              "</style>\n",
              "<table border=\"1\" class=\"dataframe\">\n",
              "  <thead>\n",
              "    <tr style=\"text-align: right;\">\n",
              "      <th></th>\n",
              "      <th>num_tokens</th>\n",
              "      <th>content</th>\n",
              "      <th>questions</th>\n",
              "      <th>answers</th>\n",
              "      <th>embeddings</th>\n",
              "    </tr>\n",
              "  </thead>\n",
              "  <tbody>\n",
              "    <tr>\n",
              "      <th>0</th>\n",
              "      <td>993</td>\n",
              "      <td>OMB APPROVAL OMB Number: 3235-0554 Expires:  F...</td>\n",
              "      <td>1. What is the purpose of Form 1-N?\\n2. What i...</td>\n",
              "      <td>1. Form 1-N is the form for notice of registra...</td>\n",
              "      <td>-0.023155031725764275, -0.012439599260687828, ...</td>\n",
              "    </tr>\n",
              "    <tr>\n",
              "      <th>1</th>\n",
              "      <td>997</td>\n",
              "      <td>This collection of information has been review...</td>\n",
              "      <td>1. What is the name of the Security Futures Pr...</td>\n",
              "      <td>1. The Security Futures Product Exchange is th...</td>\n",
              "      <td>-0.01856633462011814, 0.008737890981137753, -0...</td>\n",
              "    </tr>\n",
              "    <tr>\n",
              "      <th>2</th>\n",
              "      <td>986</td>\n",
              "      <td>The exchange consents that service of any civi...</td>\n",
              "      <td>1. What is the name of the form being filed?\\n...</td>\n",
              "      <td>1. The name of the form being filed is Form 1-...</td>\n",
              "      <td>-0.021929476410150528, -0.005438805092126131, ...</td>\n",
              "    </tr>\n",
              "    <tr>\n",
              "      <th>3</th>\n",
              "      <td>900</td>\n",
              "      <td>Exhibit D Describe the manner of operation of ...</td>\n",
              "      <td>1. What is the means of access to the System?\\...</td>\n",
              "      <td>1. The means of access to the System is throug...</td>\n",
              "      <td>-0.01889314502477646, 0.005769156385213137, -0...</td>\n",
              "    </tr>\n",
              "  </tbody>\n",
              "</table>\n",
              "</div>\n",
              "    <div class=\"colab-df-buttons\">\n",
              "\n",
              "  <div class=\"colab-df-container\">\n",
              "    <button class=\"colab-df-convert\" onclick=\"convertToInteractive('df-e94edfa2-36ff-46d4-8b75-08203934fd0c')\"\n",
              "            title=\"Convert this dataframe to an interactive table.\"\n",
              "            style=\"display:none;\">\n",
              "\n",
              "  <svg xmlns=\"http://www.w3.org/2000/svg\" height=\"24px\" viewBox=\"0 -960 960 960\">\n",
              "    <path d=\"M120-120v-720h720v720H120Zm60-500h600v-160H180v160Zm220 220h160v-160H400v160Zm0 220h160v-160H400v160ZM180-400h160v-160H180v160Zm440 0h160v-160H620v160ZM180-180h160v-160H180v160Zm440 0h160v-160H620v160Z\"/>\n",
              "  </svg>\n",
              "    </button>\n",
              "\n",
              "  <style>\n",
              "    .colab-df-container {\n",
              "      display:flex;\n",
              "      gap: 12px;\n",
              "    }\n",
              "\n",
              "    .colab-df-convert {\n",
              "      background-color: #E8F0FE;\n",
              "      border: none;\n",
              "      border-radius: 50%;\n",
              "      cursor: pointer;\n",
              "      display: none;\n",
              "      fill: #1967D2;\n",
              "      height: 32px;\n",
              "      padding: 0 0 0 0;\n",
              "      width: 32px;\n",
              "    }\n",
              "\n",
              "    .colab-df-convert:hover {\n",
              "      background-color: #E2EBFA;\n",
              "      box-shadow: 0px 1px 2px rgba(60, 64, 67, 0.3), 0px 1px 3px 1px rgba(60, 64, 67, 0.15);\n",
              "      fill: #174EA6;\n",
              "    }\n",
              "\n",
              "    .colab-df-buttons div {\n",
              "      margin-bottom: 4px;\n",
              "    }\n",
              "\n",
              "    [theme=dark] .colab-df-convert {\n",
              "      background-color: #3B4455;\n",
              "      fill: #D2E3FC;\n",
              "    }\n",
              "\n",
              "    [theme=dark] .colab-df-convert:hover {\n",
              "      background-color: #434B5C;\n",
              "      box-shadow: 0px 1px 3px 1px rgba(0, 0, 0, 0.15);\n",
              "      filter: drop-shadow(0px 1px 2px rgba(0, 0, 0, 0.3));\n",
              "      fill: #FFFFFF;\n",
              "    }\n",
              "  </style>\n",
              "\n",
              "    <script>\n",
              "      const buttonEl =\n",
              "        document.querySelector('#df-e94edfa2-36ff-46d4-8b75-08203934fd0c button.colab-df-convert');\n",
              "      buttonEl.style.display =\n",
              "        google.colab.kernel.accessAllowed ? 'block' : 'none';\n",
              "\n",
              "      async function convertToInteractive(key) {\n",
              "        const element = document.querySelector('#df-e94edfa2-36ff-46d4-8b75-08203934fd0c');\n",
              "        const dataTable =\n",
              "          await google.colab.kernel.invokeFunction('convertToInteractive',\n",
              "                                                    [key], {});\n",
              "        if (!dataTable) return;\n",
              "\n",
              "        const docLinkHtml = 'Like what you see? Visit the ' +\n",
              "          '<a target=\"_blank\" href=https://colab.research.google.com/notebooks/data_table.ipynb>data table notebook</a>'\n",
              "          + ' to learn more about interactive tables.';\n",
              "        element.innerHTML = '';\n",
              "        dataTable['output_type'] = 'display_data';\n",
              "        await google.colab.output.renderOutput(dataTable, element);\n",
              "        const docLink = document.createElement('div');\n",
              "        docLink.innerHTML = docLinkHtml;\n",
              "        element.appendChild(docLink);\n",
              "      }\n",
              "    </script>\n",
              "  </div>\n",
              "\n",
              "\n",
              "<div id=\"df-e6f656dc-2baa-41c3-b1aa-b2f1200aafd2\">\n",
              "  <button class=\"colab-df-quickchart\" onclick=\"quickchart('df-e6f656dc-2baa-41c3-b1aa-b2f1200aafd2')\"\n",
              "            title=\"Suggest charts.\"\n",
              "            style=\"display:none;\">\n",
              "\n",
              "<svg xmlns=\"http://www.w3.org/2000/svg\" height=\"24px\"viewBox=\"0 0 24 24\"\n",
              "     width=\"24px\">\n",
              "    <g>\n",
              "        <path d=\"M19 3H5c-1.1 0-2 .9-2 2v14c0 1.1.9 2 2 2h14c1.1 0 2-.9 2-2V5c0-1.1-.9-2-2-2zM9 17H7v-7h2v7zm4 0h-2V7h2v10zm4 0h-2v-4h2v4z\"/>\n",
              "    </g>\n",
              "</svg>\n",
              "  </button>\n",
              "\n",
              "<style>\n",
              "  .colab-df-quickchart {\n",
              "      --bg-color: #E8F0FE;\n",
              "      --fill-color: #1967D2;\n",
              "      --hover-bg-color: #E2EBFA;\n",
              "      --hover-fill-color: #174EA6;\n",
              "      --disabled-fill-color: #AAA;\n",
              "      --disabled-bg-color: #DDD;\n",
              "  }\n",
              "\n",
              "  [theme=dark] .colab-df-quickchart {\n",
              "      --bg-color: #3B4455;\n",
              "      --fill-color: #D2E3FC;\n",
              "      --hover-bg-color: #434B5C;\n",
              "      --hover-fill-color: #FFFFFF;\n",
              "      --disabled-bg-color: #3B4455;\n",
              "      --disabled-fill-color: #666;\n",
              "  }\n",
              "\n",
              "  .colab-df-quickchart {\n",
              "    background-color: var(--bg-color);\n",
              "    border: none;\n",
              "    border-radius: 50%;\n",
              "    cursor: pointer;\n",
              "    display: none;\n",
              "    fill: var(--fill-color);\n",
              "    height: 32px;\n",
              "    padding: 0;\n",
              "    width: 32px;\n",
              "  }\n",
              "\n",
              "  .colab-df-quickchart:hover {\n",
              "    background-color: var(--hover-bg-color);\n",
              "    box-shadow: 0 1px 2px rgba(60, 64, 67, 0.3), 0 1px 3px 1px rgba(60, 64, 67, 0.15);\n",
              "    fill: var(--button-hover-fill-color);\n",
              "  }\n",
              "\n",
              "  .colab-df-quickchart-complete:disabled,\n",
              "  .colab-df-quickchart-complete:disabled:hover {\n",
              "    background-color: var(--disabled-bg-color);\n",
              "    fill: var(--disabled-fill-color);\n",
              "    box-shadow: none;\n",
              "  }\n",
              "\n",
              "  .colab-df-spinner {\n",
              "    border: 2px solid var(--fill-color);\n",
              "    border-color: transparent;\n",
              "    border-bottom-color: var(--fill-color);\n",
              "    animation:\n",
              "      spin 1s steps(1) infinite;\n",
              "  }\n",
              "\n",
              "  @keyframes spin {\n",
              "    0% {\n",
              "      border-color: transparent;\n",
              "      border-bottom-color: var(--fill-color);\n",
              "      border-left-color: var(--fill-color);\n",
              "    }\n",
              "    20% {\n",
              "      border-color: transparent;\n",
              "      border-left-color: var(--fill-color);\n",
              "      border-top-color: var(--fill-color);\n",
              "    }\n",
              "    30% {\n",
              "      border-color: transparent;\n",
              "      border-left-color: var(--fill-color);\n",
              "      border-top-color: var(--fill-color);\n",
              "      border-right-color: var(--fill-color);\n",
              "    }\n",
              "    40% {\n",
              "      border-color: transparent;\n",
              "      border-right-color: var(--fill-color);\n",
              "      border-top-color: var(--fill-color);\n",
              "    }\n",
              "    60% {\n",
              "      border-color: transparent;\n",
              "      border-right-color: var(--fill-color);\n",
              "    }\n",
              "    80% {\n",
              "      border-color: transparent;\n",
              "      border-right-color: var(--fill-color);\n",
              "      border-bottom-color: var(--fill-color);\n",
              "    }\n",
              "    90% {\n",
              "      border-color: transparent;\n",
              "      border-bottom-color: var(--fill-color);\n",
              "    }\n",
              "  }\n",
              "</style>\n",
              "\n",
              "  <script>\n",
              "    async function quickchart(key) {\n",
              "      const quickchartButtonEl =\n",
              "        document.querySelector('#' + key + ' button');\n",
              "      quickchartButtonEl.disabled = true;  // To prevent multiple clicks.\n",
              "      quickchartButtonEl.classList.add('colab-df-spinner');\n",
              "      try {\n",
              "        const charts = await google.colab.kernel.invokeFunction(\n",
              "            'suggestCharts', [key], {});\n",
              "      } catch (error) {\n",
              "        console.error('Error during call to suggestCharts:', error);\n",
              "      }\n",
              "      quickchartButtonEl.classList.remove('colab-df-spinner');\n",
              "      quickchartButtonEl.classList.add('colab-df-quickchart-complete');\n",
              "    }\n",
              "    (() => {\n",
              "      let quickchartButtonEl =\n",
              "        document.querySelector('#df-e6f656dc-2baa-41c3-b1aa-b2f1200aafd2 button');\n",
              "      quickchartButtonEl.style.display =\n",
              "        google.colab.kernel.accessAllowed ? 'block' : 'none';\n",
              "    })();\n",
              "  </script>\n",
              "</div>\n",
              "    </div>\n",
              "  </div>\n"
            ]
          },
          "metadata": {},
          "execution_count": 17
        }
      ]
    },
    {
      "cell_type": "markdown",
      "source": [
        "Above are the embeddings for each content row in the dataframe"
      ],
      "metadata": {
        "id": "pzCVYGJoh9Xm"
      }
    },
    {
      "cell_type": "code",
      "source": [
        "import ast\n",
        "# convert embeddings from CSV str type back to list type\n",
        "df['embeddings'] = df['embeddings'].apply(ast.literal_eval)"
      ],
      "metadata": {
        "id": "VLdPbY9f3p3C"
      },
      "execution_count": 18,
      "outputs": []
    },
    {
      "cell_type": "code",
      "source": [
        "from scipy import spatial\n",
        "# search function\n",
        "def strings_ranked_by_relatedness(\n",
        "    query: str,\n",
        "    df: pd.DataFrame,\n",
        "    relatedness_fn=lambda x, y: 1 - spatial.distance.cosine(x, y),\n",
        "    top_n: int = 100\n",
        ") -> tuple[list[str], list[float]]:\n",
        "    \"\"\"Returns a list of strings and relatednesses, sorted from most related to least.\"\"\"\n",
        "    query_embedding_response = openai.Embedding.create(\n",
        "        model=EMBEDDING_MODEL,\n",
        "        input=query,\n",
        "    )\n",
        "    query_embedding = query_embedding_response[\"data\"][0][\"embedding\"]\n",
        "    strings_and_relatednesses = [\n",
        "        (row[\"content\"], relatedness_fn(query_embedding, row[\"embeddings\"]))\n",
        "        for i, row in df.iterrows()\n",
        "    ]\n",
        "    strings_and_relatednesses.sort(key=lambda x: x[1], reverse=True)\n",
        "    strings, relatednesses = zip(*strings_and_relatednesses)\n",
        "    return strings[:top_n], relatednesses[:top_n]"
      ],
      "metadata": {
        "id": "ZBkH6EEg4Idd"
      },
      "execution_count": 19,
      "outputs": []
    },
    {
      "cell_type": "code",
      "source": [
        "strings, relatednesses = strings_ranked_by_relatedness(\"trading of security futures products\", df, top_n=5)\n",
        "for string, relatedness in zip(strings, relatednesses):\n",
        "    print(f\"{relatedness=:.3f}\")\n",
        "    display(string)"
      ],
      "metadata": {
        "colab": {
          "base_uri": "https://localhost:8080/",
          "height": 575
        },
        "id": "YHTo0tBH4n-v",
        "outputId": "53841223-5ee6-43bc-baad-53cd28404cfc"
      },
      "execution_count": 20,
      "outputs": [
        {
          "output_type": "stream",
          "name": "stdout",
          "text": [
            "relatedness=0.847\n"
          ]
        },
        {
          "output_type": "display_data",
          "data": {
            "text/plain": [
              "'Exhibit D Describe the manner of operation of the System involving trading of security futures products.  This description should include the following:  1. The means of access to the System.  2. Procedures governing entry and display of quotations and orders in the System.  3. Procedures governing the execution, reporting, clearance, and settlement of transactions in connection with the System. 4. Proposed fees.  5. Procedures for ensuring compliance with System usage guidelines.   Form 1-N Page 3U.S. SECURITIES AND EXCHANGE COMMISSION WASHINGTON, D.C.  20549 FORM AND AMENDMENTS FOR NOTICE OF REGISTRATION AS A NATIONAL SECURITIES EXCHANGE FOR THE SOLE PURPOSE OF TRADING SECURITY FUTURES PRODUCTS PURSUANT TO SECTION 6(g) OF THE EXCHANGE ACTOFFICIAL OFFICIAL USE USE ONLY 6. The hours of operation of the System, and the date on which the exchange intends to commence operation of the System. 7. Attach a copy of the users’ manual. Exhibit E A list of the officers, governors, or persons performing similar functions, who presently hold or have held their offices or positions during the previous year, indicating the following for each: 1. Name.  2. Title.  3. Dates of commencement and termination of term of office or position.  4. Type of business in which each is primarily engaged. Exhibit F This Exhibit is applicable only to filing exchanges that have one or more owners, shareholders, or partners that are not also members of the exchange and should be current as of the latest date practicable within 1 month of the date Form 1-N is filed.  If the exchange is a corporation, please provide a list of each shareholder thatdirectly owns 5% or more of a class of a voting security of the Security Futures Product Exchange.  If theexchange is a partnership, please provide a list of all general partners and those limited and special partnersthat have the right to receive upon dissolution, or have contributed, 5% or more of the partnership’s capital.For each of the persons listed in the Exhibit F, please provide the following: 1. Full legal name.  2. Title or Status.  3. Date title or status was acquired.   4. Approximate ownership interest.5. Whether the person has control, a term that is defined in the instructions to this Form. Exhibit G To the extent not covered in an exchange’s rules submitted under Exhibit A, describe the Security Futures Product Exchange’s criteria for membership.  Describe conditions under which members may be subject to suspension or termination for infractions relating to the trading of security futures products.  Describe anyprocedures that will be involved in the suspension or termination of a member for such infractions. Exhibit H As of the latest date practicable within 1 month of the date Form 1-N is filed, provide an alphabetical list of all members, participants, subscribers, or other users, including the following information: 1. Name.  2. If member, participant, subscriber, or other user is an individual, the name of the entity with which such individual is associated and the relationship of such individual to the entity (e.g., partner, officer, director, employee, etc.). 3. Brief description of the type of activities primarily engaged in by the member, participant, subscriber, or other user.  A person shall be “primarily engaged” in an activity or function for purposes of this item whenthat activity or function is the one in which that person is engaged for the majority of their time.  Whenmore than one type of person at an entity engages in activities or functions, identify each type and statethe number of members, participants, subscribers, or other users in each. 4. The class of membership, participation, subscription, or other access. Exhibit I Provide a schedule of the security futures products proposed to be listed by the filing exchange, or for amendments to the Form 1-N the security futures products listed by the exchange, indicating for each the nameof the issuer and a description of the security'"
            ],
            "application/vnd.google.colaboratory.intrinsic+json": {
              "type": "string"
            }
          },
          "metadata": {}
        },
        {
          "output_type": "stream",
          "name": "stdout",
          "text": [
            "relatedness=0.820\n"
          ]
        },
        {
          "output_type": "display_data",
          "data": {
            "text/plain": [
              "'This collection of information has been reviewed by the Office of Management and Budget in accordance with the clearance requirements of 44 U.S.C. § 3507.  The applicable Privacy Act system of records is SEC-2 and the routine uses of the records are set forth at 40 FR 39255 (August 27, 1975) and 41 FR 5318 (February 5, 1976).   ______________________________________________________________________________________________________________ ______________________________________________________________________________________________________________  ______________________________________________________________________________________________________________     ______________________________________________________________________________________________________________  ______________________________________________________________________________________________________________  ______________________________________________________________________________________________________________  ______________________________________________________________________________________________________________  ______________________________________________________________________________________________________________  _________________________________________________________________________________  ______________________________________________________________          ___ ____________________________  _____________  __________  _____________ ____________ _______________________________ ________________________ ____________ __________  , ______________________  _____  _________________________________  ______________________   ______________________    ___________________________________________________________________________________________________________ ___________________________________ ______________________   _________ _____ ___________________________  Form 1-N Page 1 Execution PageU.S. SECURITIES AND EXCHANGE COMMISSION WASHINGTON, D.C.  20549 FORM AND AMENDMENTS FOR NOTICE OF REGISTRATION AS A NATIONAL SECURITIES EXCHANGE FOR THE SOLE PURPOSE OF TRADING SECURITY FUTURES PRODUCTS PURSUANT TO SECTION 6(g) OF THE EXCHANGE ACTDate filed (MM/DD/YY): 1. State the name of the exchange: 2. Provide the Security Futures Product Exchange’s primary street address (Do not use a P.O. Box):APPLICATIONINTENTIONAL MISSTATEMENTS OR OMISSIONS OF FACTS MAY CONSTITUTE CRIMINAL VIOLATIONSWARNING: Failure to keep this form current and to file accurate supplementary information on a timely basis, or the failure to keep accurate books and records or otherwise to comply with the provisions of law applying to the conduct of a national securities exchange would violate the federal securities laws and may result in disciplinary, administrative or criminal action. AMENDMENT 3. Provide the exchange’s mailing address (if different): 4. Provide the business telephone and facsimile number: (Telephone) (Facsimile) 5. Provide the name, title and telephone number of a contact employee: (Name) (Title) (Telephone Number) 6. Provide the name and address of counsel for the exchange:7. Provide the date that the exchange’s fiscal year ends: 8. Indicate legal status of the exchange: Corporation Sole Proprietorship Partnership Limited Liability Company Other (specify): If other than a sole proprietor, indicate the date and place where the exchange obtained its legal status (e.g., state where i ncorporated, place where partnership agreement was filed, or where the Security Futures Product Exchange entity was formed): (a)  Date (MM/DD/YY): (b)  State/Country of formation: (c)  Statute under which the exchange was organized: EXECUTION:'"
            ],
            "application/vnd.google.colaboratory.intrinsic+json": {
              "type": "string"
            }
          },
          "metadata": {}
        },
        {
          "output_type": "stream",
          "name": "stdout",
          "text": [
            "relatedness=0.819\n"
          ]
        },
        {
          "output_type": "display_data",
          "data": {
            "text/plain": [
              "'OMB APPROVAL OMB Number: 3235-0554 Expires:  February 2 8, 2023 Estimated average burden hours per response. . . . . . . 31 SEC 2568 (11-02)UNITED STATES SECURITIES AND EXCHANGE COMMISSION Washington, D.C. 20549 Form 1-N FORM AND AMENDMENTS FOR NOTICE OF REGISTRATION AS A NATIONAL SECURITIES EXCHANGE FOR THE SOLE PURPOSE OF TRADING SECURITY FUTURES PRODUCTS PURSUANT TO SECTION 6(g) OF THE EXCHANGE ACT Persons who pot entially are to respond to the collection of information contained in this form are not required to respond unless the form displays a currently valid OMB control number.FORM 1-N INSTRUCTIONS A.  GENERAL INSTRUCTIONS  1. Form 1-N is the form for notice of registration as a national securities exchange for the sole purpose of trading security fu tures products (“Security Futures Product Exchange”) pursuant to Section 6(g) of the Securities Exchange Act of 1934 (“Exchange Act”) . 2.UPDATING  - A Security Futures Product Exchange must file amendments to Form 1-N in accordance with Exchange Act Rule 6a- 4. 3.CONTACT EMPLOYEE - The individual listed on the Execution Page (Page 1) of Form 1-N as the contact employee must be authorized to receive all contact information, communications, and mailings and is responsible for disseminating such informati on within the Security Futures Product Exchange’s organization. 4.FORMAT Attach an Execution Page (Page 1) with original manual signatures. Please type all information. Use only the current version of Form 1-N or a reproduction. 5. If the information called for by any Exhibit is available in printed form, the printed material may be filed provided it does  not exceed 8 1/2 X 11 inches in size. 6. If any Exhibit required is inapplicable, a statement to that effect shall be furnished in lieu of such Exhibit. 7. An exchange that is filing Form 1-N may not satisfy the requirements to provide certain information by means of an Internet w eb page.  All materials must be filed with the Commission in paper. 8.WHERE TO FILE AND NUMBER OF COPIES  - Submit one original and two copies of Form 1-N to:  Securities and Exchange Commission, Division of Market Regulation, Office of Market Supervision, 450 Fifth Street, NW, Washington, DC  20549. 9.PAPERWORK REDUCTION ACT DISCLOSURE Form 1-N requires an exchange registering as a national securities exchange, for the sole purpose of trading security futures products, pursuant to Section 6(g) of the Exchange Act, to provide the Securities and Exchange Commission (“SEC” or “Commission”) with certain information regarding its operation.  If documents containing information satisfying the Commission’ s information requirements have been filed with the Commodity Futures Trading Commission, copies of such documents may befiled with the Commission.  Security Futures Product Exchanges are also required to update certain information filed on Form 1-N on a periodic basis. An agency may not conduct or sponsor, and a person is not required to respond to, a collection of information unless it display s a currently valid control number.  Sections 3(a)(1), 5, 6(a), and 23(a) of the Exchange Act authorize the Commission to collect information on this Form 1-N.  See 15 U.S.C. §§ 78c(a)(1), 78e, 78f(a), and 78w(a). Form 1-N is designed to enable the Commission to determine whether a Security Futures Product Exchange is in compliance with the Exchange Act. It is estimated that an exchange will spend approximately 31 hours completing the initial application on Form 1-N pursuant to Rule 6a-4.  It also is estimated that each Security Futures Product Exchange will spend approximately 15 hours to prepare each amendment to Form 1-N pursuant to Rule 6a-4. Any member of the public may direct to the Commission any comments concerning the accuracy of this burden estimate and any suggestions for reducing this burden. It is mandatory that an exchange seeking to operate as a national securities exchange for the sole purpose of trading security futures products file a Form 1-N with the Commission.  It is also mandatory that Security Futures Product Exchanges file amendments to Form 1-N under Rule 6a-4. No assurance of confidentiality is given by the Commission with respect to the responses made in Form 1-N.  The public has access to the information contained in Form 1-N.'"
            ],
            "application/vnd.google.colaboratory.intrinsic+json": {
              "type": "string"
            }
          },
          "metadata": {}
        },
        {
          "output_type": "stream",
          "name": "stdout",
          "text": [
            "relatedness=0.811\n"
          ]
        },
        {
          "output_type": "display_data",
          "data": {
            "text/plain": [
              "'The exchange consents that service of any civil action brought by or notice of any proceeding before the Securities and Exchange Commission in connection with the exchange’s activities may be given by registered or certified mail or confirmed telegram to the exchange’s contact employee at the main address, or mailing addressif different, given in Items 2 and 3.  The undersigned, being first duly sworn, deposes and says that he/she has executed this form on behalf of, and with the authorityof, said exchange.  The undersigned and the exchange represent that the information and statements contained herein, including exhibits, schedules, or other documents attached hereto, and other information filed herewith, all of which are made a part hereof, are current, true, and complete. Date: (MM/DD/YY) (Name of Exchange) By: (Signature) (Printed Name and Title) Subscribed and sworn before me this day of by (Month) This page must always be completed in full with original, manual signature and notarization. Affix notary stamp or seal where applicable .State of County of My Commission expires DO NOT WRITE BELOW THIS LINE - FOR OFFICIAL USE ONLY(Year) (Notary Public)Form 1-N Page 2U.S. SECURITIES AND EXCHANGE COMMISSION WASHINGTON, D.C.  20549 FORM AND AMENDMENTS FOR NOTICE OF REGISTRATION AS A NATIONAL SECURITIES EXCHANGE FOR THE SOLE PURPOSE OF TRADING SECURITY FUTURES PRODUCTS PURSUANT TO SECTION 6(g) OF THE EXCHANGE ACTOFFICIAL USEOFFICIAL USE ONLY EXHIBITS File all Exhibits with:  a form for notice of registration as a national securities exchange for the sole purpose of trading security futures products pursuant to Section 6(g) of the Exchange Act and Rule 6a-4, or amendments to such forms pursuantto Rule 6a-4.  For each exhibit, include the name of the filing exchange, the date upon which the exhibit was filed, and thedate as of which the information is accurate (if different from the date of the filing).  If any Exhibit required is inapplicab le, a statement to that effect shall be furnished in lieu of such Exhibit.     Exhibit A As of the latest date practicable within one (1) month of the date Form 1-N is filed, a copy of the constitution, articles of incorporation or association with all subsequent amendments, and existing by-laws or correspondingrules or instruments, whatever the name, of the filing exchange.  Exhibit B As of the latest date practicable within one (1) month of the date Form 1-N is filed, a copy of all written rulings, settled practices having the effect of rules, and interpretations of the Governing Board or other committee ofthe exchange in respect of any provisions of the constitution, by-laws, rules, or trading practices of the filingexchange which are not included in Exhibit A.  Exhibit C As of the latest date practicable within one (1) month of the date Form 1-N is filed, for each subsidiary or affiliate of the filing exchange that will be involved in the trading of security futures products, and for any entitywith whom the exchange has a contractual or other agreement relating to the operation of an electronic tradingsystem to be used to effect transactions in security futures products on the exchange (“System”), provide thefollowing information:  1. Name and address of organization.  2. Form of organization (e.g., association, corporation, partnership, etc.).  3. Name of state and statute citation under which organized.  Date of incorporation in present form.  4. Brief description of nature and extent of affiliation.  5. Brief description of business or functions.  Description should include responsibilities with respect to operation of the System and/or execution, reporting, clearance (including the controls that will beimplemented to ensure the safety of held funds or securities), or settlement of transactions in connectionwith operation of the System.  6. A copy of the constitution.  7. A copy of the articles of incorporation or association including all amendments.  8. A copy of existing by-laws or corresponding rules or instruments.  9. The name and title of the present officers, governors, or persons performing similar functions.  10. An indication of whether such business or organization ceased to be associated with the Security Futures Product Exchange during the previous year, and a brief statement of the reasons for termination of theassociation. '"
            ],
            "application/vnd.google.colaboratory.intrinsic+json": {
              "type": "string"
            }
          },
          "metadata": {}
        }
      ]
    },
    {
      "cell_type": "markdown",
      "source": [
        "## Answer questions based on the context provided"
      ],
      "metadata": {
        "id": "lEyhP2lBrnr1"
      }
    },
    {
      "cell_type": "markdown",
      "source": [
        "Here, we establish an \"ask\" function that:\n",
        "\n",
        "Accepts a user query.\n",
        "Scans for text that is pertinent to the query.\n",
        "Embeds that discovered text into a message intended for GPT.\n",
        "Dispatches the message to GPT.\n",
        "Provides the response given by GPT."
      ],
      "metadata": {
        "id": "lc45Njsb24Ig"
      }
    },
    {
      "cell_type": "code",
      "source": [
        "# Import the 'tiktoken' library\n",
        "import tiktoken\n",
        "\n",
        "# Define the GPT-3 model to be used\n",
        "GPT_MODEL = \"gpt-3.5-turbo\"\n",
        "\n",
        "# Function to count the number of tokens in a given text\n",
        "def num_tokens(text: str, model: str = GPT_MODEL) -> int:\n",
        "    \"\"\"Return the number of tokens in a string.\"\"\"\n",
        "    encoding = tiktoken.encoding_for_model(model)\n",
        "    return len(encoding.encode(text))\n",
        "\n",
        "# Function to create a message for GPT with relevant source texts\n",
        "def query_message(\n",
        "    query: str,\n",
        "    df: pd.DataFrame,\n",
        "    model: str,\n",
        "    token_budget: int\n",
        ") -> str:\n",
        "    \"\"\"Return a message for GPT, with relevant source texts pulled from a dataframe.\"\"\"\n",
        "    # Rank source texts by relevance to the query\n",
        "    strings, relatednesses = strings_ranked_by_relatedness(query, df)\n",
        "\n",
        "    # Introduction for the message\n",
        "    introduction = 'Use the below articles on the 2022 Winter Olympics to answer the subsequent question. If the answer cannot be found in the articles, write \"I could not find an answer.\"'\n",
        "\n",
        "    # Question to be asked\n",
        "    question = f\"\\n\\nQuestion: {query}\"\n",
        "\n",
        "    # Initialize the message with the introduction\n",
        "    message = introduction\n",
        "\n",
        "    # Iterate through the ranked source texts\n",
        "    for string in strings:\n",
        "        next_article = f'\\n\\nWikipedia article section:\\n\"\"\"\\n{string}\\n\"\"\"'\n",
        "        # Check if adding the next article to the message exceeds the token budget\n",
        "        if (\n",
        "            num_tokens(message + next_article + question, model=model)\n",
        "            > token_budget\n",
        "        ):\n",
        "            break\n",
        "        else:\n",
        "            message += next_article\n",
        "\n",
        "    # Combine the message with the question\n",
        "    return message + question\n",
        "\n",
        "# Function to interact with GPT, answer a query, and return the response\n",
        "def ask(\n",
        "    query: str,\n",
        "    df: pd.DataFrame = df,  # Assuming 'df' is a global DataFrame\n",
        "    model: str = GPT_MODEL,\n",
        "    token_budget: int = 4096 - 500,\n",
        "    print_message: bool = False,\n",
        ") -> str:\n",
        "    \"\"\"Answers a query using GPT and a dataframe of relevant texts and embeddings.\"\"\"\n",
        "    # Create a message for GPT\n",
        "    message = query_message(query, df, model=model, token_budget=token_budget)\n",
        "\n",
        "    # Print the message if requested\n",
        "    if print_message:\n",
        "        print(message)\n",
        "\n",
        "    # Define a conversation for GPT\n",
        "    messages = [\n",
        "        {\"role\": \"system\", \"content\": \"You answer questions about the 2022 Winter Olympics.\"},\n",
        "        {\"role\": \"user\", \"content\": message},\n",
        "    ]\n",
        "\n",
        "    # Generate a response from GPT\n",
        "    response = openai.ChatCompletion.create(\n",
        "        model=model,\n",
        "        messages=messages,\n",
        "        temperature=0\n",
        "    )\n",
        "\n",
        "    # Extract and return the response message\n",
        "    response_message = response[\"choices\"][0][\"message\"][\"content\"]\n",
        "    return response_message"
      ],
      "metadata": {
        "id": "JJm8GhEpihkP"
      },
      "execution_count": 21,
      "outputs": []
    },
    {
      "cell_type": "code",
      "source": [
        "ask('What is this form for?')"
      ],
      "metadata": {
        "colab": {
          "base_uri": "https://localhost:8080/",
          "height": 52
        },
        "id": "X5UYIo38kuau",
        "outputId": "4a0910a7-cf77-4735-c618-3685a7726925"
      },
      "execution_count": 22,
      "outputs": [
        {
          "output_type": "execute_result",
          "data": {
            "text/plain": [
              "'This form is for the notice of registration as a national securities exchange for the sole purpose of trading security futures products pursuant to Section 6(g) of the Exchange Act.'"
            ],
            "application/vnd.google.colaboratory.intrinsic+json": {
              "type": "string"
            }
          },
          "metadata": {},
          "execution_count": 22
        }
      ]
    },
    {
      "cell_type": "markdown",
      "source": [
        "Observed above, the model is able search suitable text in the context and provide answers to the relveant questions asked"
      ],
      "metadata": {
        "id": "0ylUNnW7V7R2"
      }
    }
  ]
}